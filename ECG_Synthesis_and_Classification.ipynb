{
  "nbformat": 4,
  "nbformat_minor": 0,
  "metadata": {
    "colab": {
      "name": "ECG-Synthesis-and-Classification.ipynb",
      "provenance": [],
      "collapsed_sections": [],
      "include_colab_link": true
    },
    "kernelspec": {
      "name": "python3",
      "display_name": "Python 3"
    },
    "language_info": {
      "name": "python"
    },
    "accelerator": "GPU"
  },
  "cells": [
    {
      "cell_type": "markdown",
      "metadata": {
        "id": "view-in-github",
        "colab_type": "text"
      },
      "source": [
        "<a href=\"https://colab.research.google.com/github/tylerfeldman321/GANs-for-Medical-Data/blob/main/ECG_Synthesis_and_Classification.ipynb\" target=\"_parent\"><img src=\"https://colab.research.google.com/assets/colab-badge.svg\" alt=\"Open In Colab\"/></a>"
      ]
    },
    {
      "cell_type": "code",
      "execution_count": null,
      "metadata": {
        "id": "jUtaMXunbVwS"
      },
      "outputs": [],
      "source": [
        "from google.colab import drive\n",
        "drive.mount('/content/drive')"
      ]
    },
    {
      "cell_type": "code",
      "source": [
        "%matplotlib inline"
      ],
      "metadata": {
        "id": "IGWqBztKxGIY"
      },
      "execution_count": 2,
      "outputs": []
    },
    {
      "cell_type": "code",
      "source": [
        "import os\n",
        "if not os.path.exists('/content/drive/MyDrive/MUSER'):\n",
        "    os.mkdir('/content/drive/MyDrive/MUSER')\n",
        "\n",
        "%cd '/content/drive/MyDrive/MUSER'\n",
        "if not os.path.exists('ECG-Synthesis-and-Classification'):\n",
        "    !git clone https://github.com/tylerfeldman321/ECG-Synthesis-and-Classification.git"
      ],
      "metadata": {
        "id": "CCaKPjuOhoA0"
      },
      "execution_count": null,
      "outputs": []
    },
    {
      "cell_type": "code",
      "source": [
        "%cd '/content/drive/MyDrive/MUSER'\n",
        "\n",
        "%cp -R 'ECG-Synthesis-and-Classification/ecg_gan/results' 'results_gan'\n",
        "%cp -R 'ECG-Synthesis-and-Classification/ecg_classification/results' 'results_classification'\n",
        "\n",
        "%cp 'ECG-Synthesis-and-Classification/ecg_classification/wesad_train_full_heartbeat_subject_id_labels.csv' 'wesad_train_full_heartbeat_subject_id_labels.csv'\n",
        "%cp 'ECG-Synthesis-and-Classification/ecg_classification/wesad_test_full_heartbeat_subject_id_labels.csv' 'wesad_test_full_heartbeat_subject_id_labels.csv'\n",
        "\n",
        "!rm -rf 'ECG-Synthesis-and-Classification'\n",
        "\n",
        "!git clone https://github.com/tylerfeldman321/ECG-Synthesis-and-Classification.git\n",
        "\n",
        "%cp -R 'results_gan' 'ECG-Synthesis-and-Classification/ecg_gan/results'\n",
        "%cp -R 'results_classification' 'ECG-Synthesis-and-Classification/ecg_classification/results'\n",
        "\n",
        "%cp 'wesad_train_full_heartbeat_subject_id_labels.csv' 'ECG-Synthesis-and-Classification/ecg_classification/wesad_train_full_heartbeat_subject_id_labels.csv'\n",
        "%cp 'wesad_test_full_heartbeat_subject_id_labels.csv' 'ECG-Synthesis-and-Classification/ecg_classification/wesad_test_full_heartbeat_subject_id_labels.csv'\n",
        "\n",
        "!rm -rf 'results_gan'\n",
        "!rm -rf 'results_classification'"
      ],
      "metadata": {
        "id": "KMSg9H6I6QPU"
      },
      "execution_count": null,
      "outputs": []
    },
    {
      "cell_type": "code",
      "source": [
        "%cd '/content/drive/MyDrive/MUSER/ECG-Synthesis-and-Classification/ecg_gan'\n",
        "import pandas as pd\n",
        "\n",
        "# train_path = 'mitbih_train.csv'\n",
        "# test_path = 'mitbih_test.csv'\n",
        "train_path = \n",
        "test_path = \n",
        "\n",
        "df_dataset = pd.read_csv(train_path)"
      ],
      "metadata": {
        "id": "S7sIu2V4h32u"
      },
      "execution_count": null,
      "outputs": []
    },
    {
      "cell_type": "code",
      "source": [
        "df_train = pd.read_csv(train_path, header=None)\n",
        "df_test = pd.read_csv(test_path, header=None)\n",
        "df_train.rename(columns={len(df_dataset.columns)-1: 'class'}, inplace=True)\n",
        "df_test.rename(columns={len(df_dataset.columns)-1: 'class'}, inplace=True)\n",
        "\n",
        "id_to_label = {\n",
        "    0: \"Normal\",\n",
        "    1: \"Artial Premature\",\n",
        "    2: \"Premature ventricular contraction\",\n",
        "    3: \"Fusion of ventricular and normal\",\n",
        "    4: \"Fusion of paced and normal\"\n",
        "}\n",
        "\n",
        "df_train['label'] = df_train.iloc[:, -1].map(id_to_label)\n",
        "df_test['label'] = df_test.iloc[:, -1].map(id_to_label)"
      ],
      "metadata": {
        "id": "utkgW4TNuiET"
      },
      "execution_count": null,
      "outputs": []
    },
    {
      "cell_type": "code",
      "source": [
        "df_train.head()"
      ],
      "metadata": {
        "id": "tY_o2MZG90kM"
      },
      "execution_count": null,
      "outputs": []
    },
    {
      "cell_type": "code",
      "source": [
        "df_train.to_csv('data.csv', index=False)"
      ],
      "metadata": {
        "id": "wf6tOAPuurZj"
      },
      "execution_count": null,
      "outputs": []
    },
    {
      "cell_type": "code",
      "source": [
        "df_train['label'].value_counts()"
      ],
      "metadata": {
        "id": "ExRc54-Mvvcn"
      },
      "execution_count": null,
      "outputs": []
    },
    {
      "cell_type": "code",
      "source": [
        "# Plot examples of the input data\n",
        "import matplotlib.pyplot as plt\n",
        "indexes = [0, 10, 20, 30, 40, 50, 60, 70, 80, 90, 100, 110, 120]\n",
        "for index in indexes:\n",
        "    row = df_dataset.iloc[index, :-2]\n",
        "    row.plot(label=f'ECG Sample {index}')\n",
        "    plt.xlabel('Time Index')\n",
        "    plt.ylabel('Magnitude')\n",
        "    plt.title('ECG Samples')"
      ],
      "metadata": {
        "id": "DBewezWlO5jv"
      },
      "execution_count": null,
      "outputs": []
    },
    {
      "cell_type": "code",
      "source": [
        "!python train.py"
      ],
      "metadata": {
        "id": "cqhizj9puOc6"
      },
      "execution_count": null,
      "outputs": []
    },
    {
      "cell_type": "code",
      "source": [
        "%cd '/content/drive/MyDrive/MUSER/ECG-Synthesis-and-Classification/ecg_gan'\n",
        "results_subdir = 'Subject2-Month01-Day21-Hour16-Minute31'\n",
        "test_csv_filename = 'wesad_test_full_heartbeat_subject_2.csv'"
      ],
      "metadata": {
        "id": "Xrm0t7-vEBSF"
      },
      "execution_count": null,
      "outputs": []
    },
    {
      "cell_type": "code",
      "source": [
        "# Plot generator and discriminator losses\n",
        "import os\n",
        "import pickle\n",
        "import numpy as np\n",
        "import matplotlib.pyplot as plt\n",
        "results_dir = os.path.join('results', results_subdir)\n",
        "\n",
        "with open(os.path.join(results_dir, 'Errors.pickle'), 'rb') as f:\n",
        "    losses = pickle.load(f)\n",
        "    print(losses['g'])\n",
        "    print(losses['d'])\n",
        "    epoch = np.arange(0, len(losses['g']), 1)\n",
        "    plt.plot(epoch, losses['g'], label='Generator Loss')\n",
        "    plt.plot(epoch, losses['d'], label='Discriminator Loss')\n",
        "    plt.xlabel('Epoch')\n",
        "    plt.ylabel('Loss')\n",
        "    plt.title('Generator and Discriminator Loss vs. Epoch')"
      ],
      "metadata": {
        "id": "400fmrLrEzE8"
      },
      "execution_count": null,
      "outputs": []
    },
    {
      "cell_type": "code",
      "source": [
        "from sklearn import metrics\n",
        "\n",
        "def mmd_rbf(X, Y, gamma=1.0):\n",
        "    \"\"\"MMD using rbf (gaussian) kernel (i.e., k(x,y) = exp(-gamma * ||x-y||^2 / 2))\n",
        "    Arguments:\n",
        "        X {[n_sample1, dim]} -- [X matrix]\n",
        "        Y {[n_sample2, dim]} -- [Y matrix]\n",
        "    Keyword Arguments:\n",
        "        gamma {float} -- [kernel parameter] (default: {1.0})\n",
        "    Returns:\n",
        "        [scalar] -- [MMD value]\n",
        "    \"\"\"\n",
        "    XX = metrics.pairwise.rbf_kernel(X, X, gamma)\n",
        "    YY = metrics.pairwise.rbf_kernel(Y, Y, gamma)\n",
        "    XY = metrics.pairwise.rbf_kernel(X, Y, gamma)\n",
        "    return XX.mean() + YY.mean() - 2 * XY.mean()"
      ],
      "metadata": {
        "id": "uKQx46f9EH3_"
      },
      "execution_count": 12,
      "outputs": []
    },
    {
      "cell_type": "code",
      "source": [
        "# Plot generated samples for each epoch\n",
        "import glob\n",
        "import numpy as np\n",
        "import pandas as pd\n",
        "\n",
        "results_dir = os.path.join('results', results_subdir)\n",
        "test_csv_path = os.path.join(test_csv_filename)\n",
        "df = pd.read_csv(test_csv_path)\n",
        "test_data = df.to_numpy()[:, :-1]\n",
        "\n",
        "data_files = glob.glob(os.path.join(results_dir, '*.npy'))\n",
        "\n",
        "plot_mmd = True\n",
        "mmd_scores = []\n",
        "epochs = []\n",
        "for data_file in data_files:\n",
        "    epoch = str(os.path.basename(data_file).split('-')[1])\n",
        "    with open(data_file, 'rb') as f:\n",
        "        data = np.load(f)\n",
        "        plt.plot(data)\n",
        "        plt.xlabel('Time Index')\n",
        "        plt.ylabel('Magnitude')\n",
        "        title = 'Epoch' + ' ' + epoch\n",
        "        plt.title(title)\n",
        "        plt.show()\n",
        "\n",
        "        if plot_mmd:\n",
        "            mmd = mmd_rbf(test_data, data.T)\n",
        "            print(f\"Epoch: {epoch}, mmd: {mmd}\")\n",
        "            epochs.append(int(epoch))\n",
        "            mmd_scores.append(mmd)\n",
        "\n",
        "if plot_mmd:\n",
        "    print(epochs)\n",
        "    print(mmd_scores)\n",
        "    plt.figure()\n",
        "    plt.plot(epochs, mmd_scores, 'b-')\n",
        "    plt.title('MMD Scores Over Time')\n",
        "    plt.xlabel('Epoch')\n",
        "    plt.ylabel('MMD Score')\n",
        "    plt.show()\n",
        "\n",
        "    plt.figure()\n",
        "    plt.plot(epochs, np.log(mmd_scores), 'b-')\n",
        "    plt.title('MMD Scores Over Time')\n",
        "    plt.xlabel('Epoch')\n",
        "    plt.ylabel('MMD Score')\n",
        "    plt.show()"
      ],
      "metadata": {
        "id": "07IcxYr_E1ne"
      },
      "execution_count": null,
      "outputs": []
    },
    {
      "cell_type": "markdown",
      "source": [
        "## Classification"
      ],
      "metadata": {
        "id": "bph9XXs5UcWM"
      }
    },
    {
      "cell_type": "code",
      "source": [
        "import pandas as pd\n",
        "%cd '/content/drive/MyDrive/MUSER/ECG-Synthesis-and-Classification/ecg_classification'\n",
        "df_train = pd.read_csv('wesad_train_full_heartbeat_subject_id_labels.csv', header=None)\n",
        "df_test = pd.read_csv('wesad_test_full_heartbeat_subject_id_labels.csv', header=None)\n",
        "print(df_train.isnull().values.any())\n",
        "print(df_test.isnull().values.any())\n",
        "# df_mitbih = pd.concat([df_train, df_test], axis=0)\n",
        "df_train.rename(columns={187: 'class'}, inplace=True)\n",
        "df_test.rename(columns={187: 'class'}, inplace=True)\n",
        "\n",
        "id_to_label = {\n",
        "    0: \"S0\",\n",
        "    1: \"S1\",\n",
        "    2: \"S2\",\n",
        "    3: \"S3\",\n",
        "    4: \"S4\",\n",
        "    5: \"S5\",\n",
        "    6: \"S6\",\n",
        "    7: \"S7\",\n",
        "    8: \"S8\",\n",
        "    9: \"S9\",\n",
        "    10: \"S10\",\n",
        "    11: \"S11\",\n",
        "    12: \"S12\",\n",
        "    13: \"S13\",\n",
        "    14: \"S14\",\n",
        "    15: \"S15\",\n",
        "    16: \"S16\",\n",
        "    17: \"S17\",\n",
        "}\n",
        "\n",
        "\n",
        "df_train['label'] = df_train.iloc[:, -1].map(id_to_label)\n",
        "df_test['label'] = df_test.iloc[:, -1].map(id_to_label)\n",
        "\n",
        "print(df_train.head())\n",
        "print(df_train.info())\n",
        "print(df_test.info())\n",
        "\n",
        "print(df_train.isnull().values.any())\n",
        "print(df_test.isnull().values.any())\n",
        "\n",
        "df_train.to_csv('data_train.csv', index=False)\n",
        "df_test.to_csv('data_test.csv', index=False)"
      ],
      "metadata": {
        "id": "VijHpgfiOefe"
      },
      "execution_count": null,
      "outputs": []
    },
    {
      "cell_type": "code",
      "source": [
        "df_train = pd.read_csv('data_train.csv')\n",
        "df_test = pd.read_csv('data_test.csv')"
      ],
      "metadata": {
        "id": "aX-O4kV0XO7T"
      },
      "execution_count": null,
      "outputs": []
    },
    {
      "cell_type": "code",
      "source": [
        "print(df_train['label'].value_counts())\n",
        "print(df_test['label'].value_counts())"
      ],
      "metadata": {
        "id": "VpseHLoZQtv2"
      },
      "execution_count": null,
      "outputs": []
    },
    {
      "cell_type": "code",
      "source": [
        "import matplotlib.pyplot as plt\n",
        "import seaborn as sns\n",
        "import numpy as np\n",
        "\n",
        "df_all = pd.concat([df_train, df_test], axis=0)\n",
        "percentages = [count / df_all.shape[0] * 100 for count in df_all['label'].value_counts()]\n",
        "\n",
        "fig, ax = plt.subplots(figsize=(26, 8))\n",
        "sns.countplot(\n",
        "    x=df_all['label'],\n",
        "    ax=ax,\n",
        "    palette=\"bright\",\n",
        "    order=df_all['label'].value_counts().index\n",
        ")\n",
        "ax.set_xticklabels(ax.get_xticklabels(), rotation=15);\n",
        "\n",
        "for percentage, count, p in zip(\n",
        "    percentages,\n",
        "    df_all['label'].value_counts(sort=True).values,\n",
        "    ax.patches):\n",
        "    \n",
        "    percentage = f'{np.round(percentage, 2)}%'\n",
        "    x = p.get_x() + p.get_width() / 2 - 0.4\n",
        "    y = p.get_y() + p.get_height()\n",
        "    ax.annotate(str(percentage)+\" / \"+str(count), (x, y), fontsize=12, fontweight='bold')\n",
        "    \n",
        "plt.savefig('data_dist.png', facecolor='w', edgecolor='w', format='png',\n",
        "        transparent=False, bbox_inches='tight', pad_inches=0.1)\n",
        "plt.savefig('data_dist.svg', facecolor='w', edgecolor='w', format='svg',\n",
        "        transparent=False, bbox_inches='tight', pad_inches=0.1)"
      ],
      "metadata": {
        "id": "1a6R_EcImOBo"
      },
      "execution_count": null,
      "outputs": []
    },
    {
      "cell_type": "code",
      "source": [
        "%%time\n",
        "signals = [' '.join(df_mitbih.iloc[i, :-1].apply(str).values) for i in range(df_mitbih.shape[0])]\n",
        "y = df_mitbih.iloc[:, -1].values.tolist()\n",
        "print(len(signals), len(y))\n",
        "\n",
        "print(f'data has {len(set([sig for line in signals for sig in line.split()]))} out of 16 372 411 unique values.')"
      ],
      "metadata": {
        "id": "_kZrRl5qRgxM"
      },
      "execution_count": null,
      "outputs": []
    },
    {
      "cell_type": "code",
      "source": [
        "!python train.py"
      ],
      "metadata": {
        "id": "LwGHeR_xQEZE"
      },
      "execution_count": null,
      "outputs": []
    }
  ]
}