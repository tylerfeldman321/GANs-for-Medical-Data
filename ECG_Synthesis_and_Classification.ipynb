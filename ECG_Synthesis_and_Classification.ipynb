{
  "nbformat": 4,
  "nbformat_minor": 0,
  "metadata": {
    "colab": {
      "name": "ECG-Synthesis-and-Classification.ipynb",
      "provenance": [],
      "collapsed_sections": [],
      "include_colab_link": true
    },
    "kernelspec": {
      "name": "python3",
      "display_name": "Python 3"
    },
    "language_info": {
      "name": "python"
    },
    "accelerator": "GPU"
  },
  "cells": [
    {
      "cell_type": "markdown",
      "metadata": {
        "id": "view-in-github",
        "colab_type": "text"
      },
      "source": [
        "<a href=\"https://colab.research.google.com/github/tylerfeldman321/GANs-for-Medical-Data/blob/main/ECG_Synthesis_and_Classification.ipynb\" target=\"_parent\"><img src=\"https://colab.research.google.com/assets/colab-badge.svg\" alt=\"Open In Colab\"/></a>"
      ]
    },
    {
      "cell_type": "code",
      "execution_count": null,
      "metadata": {
        "id": "jUtaMXunbVwS"
      },
      "outputs": [],
      "source": [
        "from google.colab import drive\n",
        "drive.mount('/content/drive')"
      ]
    },
    {
      "cell_type": "code",
      "source": [
        "%matplotlib inline"
      ],
      "metadata": {
        "id": "IGWqBztKxGIY"
      },
      "execution_count": null,
      "outputs": []
    },
    {
      "cell_type": "code",
      "source": [
        "import os\n",
        "if not os.path.exists('/content/drive/MyDrive/MUSER'):\n",
        "    os.mkdir('/content/drive/MyDrive/MUSER')\n",
        "\n",
        "%cd '/content/drive/MyDrive/MUSER'\n",
        "if not os.path.exists('ECG-Synthesis-and-Classification'):\n",
        "    !git clone https://github.com/tylerfeldman321/ECG-Synthesis-and-Classification.git"
      ],
      "metadata": {
        "id": "CCaKPjuOhoA0"
      },
      "execution_count": null,
      "outputs": []
    },
    {
      "cell_type": "code",
      "source": [
        "%cd '/content/drive/MyDrive/MUSER/ECG-Synthesis-and-Classification/ecg_gan'\n",
        "import pandas as pd\n",
        "\n",
        "# train_path = 'mitbih_train.csv'\n",
        "# test_path = 'mitbih_test.csv'\n",
        "train_path = \n",
        "test_path = \n",
        "\n",
        "df_dataset = pd.read_csv(train_path)"
      ],
      "metadata": {
        "id": "S7sIu2V4h32u"
      },
      "execution_count": null,
      "outputs": []
    },
    {
      "cell_type": "code",
      "source": [
        "df_train = pd.read_csv(train_path, header=None)\n",
        "df_test = pd.read_csv(test_path, header=None)\n",
        "df_dataset = pd.concat([df_train, df_test], axis=0)\n",
        "df_dataset.rename(columns={len(df_dataset.columns)-1: 'class'}, inplace=True)\n",
        "\n",
        "id_to_label = {\n",
        "    0: \"Normal\",\n",
        "    1: \"Artial Premature\",\n",
        "    2: \"Premature ventricular contraction\",\n",
        "    3: \"Fusion of ventricular and normal\",\n",
        "    4: \"Fusion of paced and normal\"\n",
        "}\n",
        "df_dataset['label'] = df_dataset.iloc[:, -1].map(id_to_label)\n",
        "print(df_dataset.info())"
      ],
      "metadata": {
        "id": "utkgW4TNuiET"
      },
      "execution_count": null,
      "outputs": []
    },
    {
      "cell_type": "code",
      "source": [
        "df_dataset.head()"
      ],
      "metadata": {
        "id": "tY_o2MZG90kM"
      },
      "execution_count": null,
      "outputs": []
    },
    {
      "cell_type": "code",
      "source": [
        "df_dataset.to_csv('data.csv', index=False)"
      ],
      "metadata": {
        "id": "wf6tOAPuurZj"
      },
      "execution_count": null,
      "outputs": []
    },
    {
      "cell_type": "code",
      "source": [
        "df_dataset['label'].value_counts()"
      ],
      "metadata": {
        "id": "ExRc54-Mvvcn"
      },
      "execution_count": null,
      "outputs": []
    },
    {
      "cell_type": "code",
      "source": [
        "# Plot examples of the input data\n",
        "import matplotlib.pyplot as plt\n",
        "indexes = [0, 10, 20, 30, 40, 50, 60, 70, 80, 90, 100, 110, 120]\n",
        "for index in indexes:\n",
        "    row = df_dataset.iloc[index, :-2]\n",
        "    row.plot(label=f'ECG Sample {index}')\n",
        "    plt.xlabel('Time Index')\n",
        "    plt.ylabel('Magnitude')\n",
        "    plt.title('ECG Samples')"
      ],
      "metadata": {
        "id": "DBewezWlO5jv"
      },
      "execution_count": null,
      "outputs": []
    },
    {
      "cell_type": "code",
      "source": [
        "!python train.py"
      ],
      "metadata": {
        "id": "cqhizj9puOc6"
      },
      "execution_count": null,
      "outputs": []
    },
    {
      "cell_type": "code",
      "source": [
        "results_subdir = "
      ],
      "metadata": {
        "id": "Xrm0t7-vEBSF"
      },
      "execution_count": null,
      "outputs": []
    },
    {
      "cell_type": "code",
      "source": [
        "# Plot generator and discriminator losses\n",
        "import os\n",
        "import pickle\n",
        "results_dir = os.path.join('results', results_subdir)\n",
        "\n",
        "with open(os.path.join(results_dir, 'Errors.pickle'), 'rb') as f:\n",
        "    losses = pickle.load(f)\n",
        "    print(losses['g'])\n",
        "    print(losses['d'])\n",
        "    epoch = np.arange(0, len(losses['g']), 1)\n",
        "    plt.plot(epoch, losses['g'], label='Generator Loss')\n",
        "    plt.plot(epoch, losses['d'], label='Discriminator Loss')\n",
        "    plt.xlabel('Epoch')\n",
        "    plt.ylabel('Loss')\n",
        "    plt.title('Generator and Discriminator Loss vs. Epoch')"
      ],
      "metadata": {
        "id": "400fmrLrEzE8"
      },
      "execution_count": null,
      "outputs": []
    },
    {
      "cell_type": "code",
      "source": [
        "def mmd_rbf(X, Y, gamma=1.0):\n",
        "    \"\"\"MMD using rbf (gaussian) kernel (i.e., k(x,y) = exp(-gamma * ||x-y||^2 / 2))\n",
        "    Arguments:\n",
        "        X {[n_sample1, dim]} -- [X matrix]\n",
        "        Y {[n_sample2, dim]} -- [Y matrix]\n",
        "    Keyword Arguments:\n",
        "        gamma {float} -- [kernel parameter] (default: {1.0})\n",
        "    Returns:\n",
        "        [scalar] -- [MMD value]\n",
        "    \"\"\"\n",
        "    XX = metrics.pairwise.rbf_kernel(X, X, gamma)\n",
        "    YY = metrics.pairwise.rbf_kernel(Y, Y, gamma)\n",
        "    XY = metrics.pairwise.rbf_kernel(X, Y, gamma)\n",
        "    return XX.mean() + YY.mean() - 2 * XY.mean()"
      ],
      "metadata": {
        "id": "uKQx46f9EH3_"
      },
      "execution_count": null,
      "outputs": []
    },
    {
      "cell_type": "code",
      "source": [
        "# Plot generated samples for each epoch\n",
        "import glob\n",
        "import numpy as np\n",
        "\n",
        "results_dir = os.path.join('results', results_subdir)\n",
        "\n",
        "data_files = glob.glob(os.path.join(results_dir, '*.npy'))\n",
        "\n",
        "plot_mmd = True\n",
        "epochs = []\n",
        "for data_file in data_files:\n",
        "    epoch = str(os.path.basename(data_file).split('-')[1])\n",
        "    with open(data_file, 'rb') as f:\n",
        "        data = np.load(f)\n",
        "        plt.plot(data)\n",
        "        plt.xlabel('Time Index')\n",
        "        plt.ylabel('Magnitude')\n",
        "        title = 'Epoch' + ' ' + epoch\n",
        "        plt.title(title)\n",
        "        plt.show()\n",
        "\n",
        "        if plot_mmd:\n",
        "            mmd = mmd_rbf(test_data, data.T)\n",
        "            print(f\"Epoch: {epoch}, mmd: {mmd}\")\n",
        "            epochs.append(int(epoch))\n",
        "            mmd_scores.append(mmd)\n",
        "\n",
        "if plot_mmd:\n",
        "    print(epochs)\n",
        "    print(mmd_scores)\n",
        "    plt.figure()\n",
        "    plt.plot(epochs, mmd_scores, 'b-')\n",
        "    plt.title('MMD Scores Over Time')\n",
        "    plt.xlabel('Epoch')\n",
        "    plt.ylabel('MMD Score')\n",
        "    plt.show()\n",
        "\n",
        "    plt.figure()\n",
        "    plt.plot(epochs, np.log(mmd_scores), 'b-')\n",
        "    plt.title('MMD Scores Over Time')\n",
        "    plt.xlabel('Epoch')\n",
        "    plt.ylabel('MMD Score')\n",
        "    plt.show()"
      ],
      "metadata": {
        "id": "07IcxYr_E1ne"
      },
      "execution_count": null,
      "outputs": []
    }
  ]
}