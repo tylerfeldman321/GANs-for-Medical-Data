{
  "nbformat": 4,
  "nbformat_minor": 0,
  "metadata": {
    "colab": {
      "name": "ECG-Synthesis-and-Classification.ipynb",
      "provenance": [],
      "collapsed_sections": [],
      "include_colab_link": true
    },
    "kernelspec": {
      "name": "python3",
      "display_name": "Python 3"
    },
    "language_info": {
      "name": "python"
    },
    "accelerator": "GPU"
  },
  "cells": [
    {
      "cell_type": "markdown",
      "metadata": {
        "id": "view-in-github",
        "colab_type": "text"
      },
      "source": [
        "<a href=\"https://colab.research.google.com/github/tylerfeldman321/GANs-for-Medical-Data/blob/main/notebooks/ECG_Synthesis_and_Classification.ipynb\" target=\"_parent\"><img src=\"https://colab.research.google.com/assets/colab-badge.svg\" alt=\"Open In Colab\"/></a>"
      ]
    },
    {
      "cell_type": "code",
      "execution_count": null,
      "metadata": {
        "id": "jUtaMXunbVwS"
      },
      "outputs": [],
      "source": [
        "from google.colab import drive\n",
        "drive.mount('/content/drive')"
      ]
    },
    {
      "cell_type": "code",
      "source": [
        "%matplotlib inline"
      ],
      "metadata": {
        "id": "IGWqBztKxGIY"
      },
      "execution_count": null,
      "outputs": []
    },
    {
      "cell_type": "code",
      "source": [
        "import os\n",
        "%cd '/content/drive/MyDrive/MUSER'\n",
        "if not os.path.exists('ECG-Synthesis-and-Classification'):\n",
        "    !git clone https://github.com/mandrakedrink/ECG-Synthesis-and-Classification.git"
      ],
      "metadata": {
        "id": "CCaKPjuOhoA0"
      },
      "execution_count": null,
      "outputs": []
    },
    {
      "cell_type": "code",
      "source": [
        "%cd '/content/drive/MyDrive/MUSER/ECG-Synthesis-and-Classification/ecg_gan'\n",
        "import pandas as pd\n",
        "\n",
        "dataset = 'wesad'\n",
        "\n",
        "if dataset == 'mitbih':\n",
        "    train_path = 'mitbih_train.csv'\n",
        "    test_path = 'mitbih_test.csv'\n",
        "elif dataset == 'wesad':\n",
        "    train_path = 'wesad_train.csv'\n",
        "    test_path = 'wesad_test.csv'\n",
        "\n",
        "# df_ptbdb = pd.read_csv('ptbdb_abnormal.csv')\n",
        "df_dataset = pd.read_csv(train_path)"
      ],
      "metadata": {
        "id": "S7sIu2V4h32u"
      },
      "execution_count": null,
      "outputs": []
    },
    {
      "cell_type": "code",
      "source": [
        "df_train = pd.read_csv(train_path, header=None)\n",
        "df_test = pd.read_csv(test_path, header=None)\n",
        "df_dataset = pd.concat([df_train, df_test], axis=0)\n",
        "df_dataset.rename(columns={len(df_dataset.columns)-1: 'class'}, inplace=True)\n",
        "\n",
        "id_to_label = {\n",
        "    0: \"Normal\",\n",
        "    1: \"Artial Premature\",\n",
        "    2: \"Premature ventricular contraction\",\n",
        "    3: \"Fusion of ventricular and normal\",\n",
        "    4: \"Fusion of paced and normal\"\n",
        "}\n",
        "df_dataset['label'] = df_dataset.iloc[:, -1].map(id_to_label)\n",
        "print(df_dataset.info())"
      ],
      "metadata": {
        "id": "utkgW4TNuiET"
      },
      "execution_count": null,
      "outputs": []
    },
    {
      "cell_type": "code",
      "source": [
        "df_dataset.head()"
      ],
      "metadata": {
        "id": "tY_o2MZG90kM"
      },
      "execution_count": null,
      "outputs": []
    },
    {
      "cell_type": "code",
      "source": [
        "df_dataset.to_csv('data.csv', index=False)"
      ],
      "metadata": {
        "id": "wf6tOAPuurZj"
      },
      "execution_count": null,
      "outputs": []
    },
    {
      "cell_type": "code",
      "source": [
        "df_dataset['label'].value_counts()"
      ],
      "metadata": {
        "id": "ExRc54-Mvvcn"
      },
      "execution_count": null,
      "outputs": []
    },
    {
      "cell_type": "code",
      "source": [
        "import matplotlib.pyplot as plt\n",
        "indexes = [0, 10, 20, 30, 40, 50, 60, 70, 80, 90, 100, 110, 120]\n",
        "for index in indexes:\n",
        "    print(df_dataset.iloc[index, -2:])\n",
        "    row = df_dataset.iloc[index, :-2]\n",
        "    row.plot(label=f'ECG Sample {index}')\n",
        "    plt.xlabel('Time Index')\n",
        "    plt.ylabel('Magnitude')\n",
        "    plt.title('ECG Samples')"
      ],
      "metadata": {
        "id": "DBewezWlO5jv"
      },
      "execution_count": null,
      "outputs": []
    },
    {
      "cell_type": "code",
      "source": [
        "!python train.py"
      ],
      "metadata": {
        "id": "cqhizj9puOc6"
      },
      "execution_count": null,
      "outputs": []
    }
  ]
}